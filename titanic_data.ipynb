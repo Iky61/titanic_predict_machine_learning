{
 "cells": [
  {
   "cell_type": "code",
   "execution_count": 1,
   "id": "bcdab33f-9194-4f8f-90e2-324a5c57fc0b",
   "metadata": {},
   "outputs": [],
   "source": [
    "import pandas as pd \n",
    "import numpy as np\n",
    "import matplotlib.pyplot as plt\n",
    "import seaborn as sns\n",
    "\n",
    "%matplotlib inline"
   ]
  },
  {
   "cell_type": "markdown",
   "id": "44931b96-3987-4b77-a253-c764ca5f823d",
   "metadata": {
    "jp-MarkdownHeadingCollapsed": true,
    "tags": []
   },
   "source": [
    "### 1. Baca Dataset"
   ]
  },
  {
   "cell_type": "code",
   "execution_count": 2,
   "id": "fd4af20b-359c-48a2-9b97-9822ea5c43ad",
   "metadata": {},
   "outputs": [
    {
     "data": {
      "text/html": [
       "<div>\n",
       "<style scoped>\n",
       "    .dataframe tbody tr th:only-of-type {\n",
       "        vertical-align: middle;\n",
       "    }\n",
       "\n",
       "    .dataframe tbody tr th {\n",
       "        vertical-align: top;\n",
       "    }\n",
       "\n",
       "    .dataframe thead th {\n",
       "        text-align: right;\n",
       "    }\n",
       "</style>\n",
       "<table border=\"1\" class=\"dataframe\">\n",
       "  <thead>\n",
       "    <tr style=\"text-align: right;\">\n",
       "      <th></th>\n",
       "      <th>survived</th>\n",
       "      <th>pclass</th>\n",
       "      <th>sex</th>\n",
       "      <th>age</th>\n",
       "      <th>sibsp</th>\n",
       "      <th>parch</th>\n",
       "      <th>fare</th>\n",
       "      <th>embarked</th>\n",
       "      <th>class</th>\n",
       "      <th>who</th>\n",
       "      <th>adult_male</th>\n",
       "      <th>deck</th>\n",
       "      <th>embark_town</th>\n",
       "      <th>alive</th>\n",
       "      <th>alone</th>\n",
       "    </tr>\n",
       "  </thead>\n",
       "  <tbody>\n",
       "    <tr>\n",
       "      <th>0</th>\n",
       "      <td>0</td>\n",
       "      <td>3</td>\n",
       "      <td>male</td>\n",
       "      <td>22.0</td>\n",
       "      <td>1</td>\n",
       "      <td>0</td>\n",
       "      <td>7.2500</td>\n",
       "      <td>S</td>\n",
       "      <td>Third</td>\n",
       "      <td>man</td>\n",
       "      <td>True</td>\n",
       "      <td>NaN</td>\n",
       "      <td>Southampton</td>\n",
       "      <td>no</td>\n",
       "      <td>False</td>\n",
       "    </tr>\n",
       "    <tr>\n",
       "      <th>1</th>\n",
       "      <td>1</td>\n",
       "      <td>1</td>\n",
       "      <td>female</td>\n",
       "      <td>38.0</td>\n",
       "      <td>1</td>\n",
       "      <td>0</td>\n",
       "      <td>71.2833</td>\n",
       "      <td>C</td>\n",
       "      <td>First</td>\n",
       "      <td>woman</td>\n",
       "      <td>False</td>\n",
       "      <td>C</td>\n",
       "      <td>Cherbourg</td>\n",
       "      <td>yes</td>\n",
       "      <td>False</td>\n",
       "    </tr>\n",
       "    <tr>\n",
       "      <th>2</th>\n",
       "      <td>1</td>\n",
       "      <td>3</td>\n",
       "      <td>female</td>\n",
       "      <td>26.0</td>\n",
       "      <td>0</td>\n",
       "      <td>0</td>\n",
       "      <td>7.9250</td>\n",
       "      <td>S</td>\n",
       "      <td>Third</td>\n",
       "      <td>woman</td>\n",
       "      <td>False</td>\n",
       "      <td>NaN</td>\n",
       "      <td>Southampton</td>\n",
       "      <td>yes</td>\n",
       "      <td>True</td>\n",
       "    </tr>\n",
       "    <tr>\n",
       "      <th>3</th>\n",
       "      <td>1</td>\n",
       "      <td>1</td>\n",
       "      <td>female</td>\n",
       "      <td>35.0</td>\n",
       "      <td>1</td>\n",
       "      <td>0</td>\n",
       "      <td>53.1000</td>\n",
       "      <td>S</td>\n",
       "      <td>First</td>\n",
       "      <td>woman</td>\n",
       "      <td>False</td>\n",
       "      <td>C</td>\n",
       "      <td>Southampton</td>\n",
       "      <td>yes</td>\n",
       "      <td>False</td>\n",
       "    </tr>\n",
       "    <tr>\n",
       "      <th>4</th>\n",
       "      <td>0</td>\n",
       "      <td>3</td>\n",
       "      <td>male</td>\n",
       "      <td>35.0</td>\n",
       "      <td>0</td>\n",
       "      <td>0</td>\n",
       "      <td>8.0500</td>\n",
       "      <td>S</td>\n",
       "      <td>Third</td>\n",
       "      <td>man</td>\n",
       "      <td>True</td>\n",
       "      <td>NaN</td>\n",
       "      <td>Southampton</td>\n",
       "      <td>no</td>\n",
       "      <td>True</td>\n",
       "    </tr>\n",
       "  </tbody>\n",
       "</table>\n",
       "</div>"
      ],
      "text/plain": [
       "   survived  pclass     sex   age  sibsp  parch     fare embarked  class  \\\n",
       "0         0       3    male  22.0      1      0   7.2500        S  Third   \n",
       "1         1       1  female  38.0      1      0  71.2833        C  First   \n",
       "2         1       3  female  26.0      0      0   7.9250        S  Third   \n",
       "3         1       1  female  35.0      1      0  53.1000        S  First   \n",
       "4         0       3    male  35.0      0      0   8.0500        S  Third   \n",
       "\n",
       "     who  adult_male deck  embark_town alive  alone  \n",
       "0    man        True  NaN  Southampton    no  False  \n",
       "1  woman       False    C    Cherbourg   yes  False  \n",
       "2  woman       False  NaN  Southampton   yes   True  \n",
       "3  woman       False    C  Southampton   yes  False  \n",
       "4    man        True  NaN  Southampton    no   True  "
      ]
     },
     "execution_count": 2,
     "metadata": {},
     "output_type": "execute_result"
    }
   ],
   "source": [
    "titanic = sns.load_dataset('titanic')\n",
    "titanic.head()"
   ]
  },
  {
   "cell_type": "code",
   "execution_count": 3,
   "id": "7e93d575-2673-429d-a9ed-90fe15b8b09e",
   "metadata": {},
   "outputs": [
    {
     "name": "stdout",
     "output_type": "stream",
     "text": [
      "1. Ukuran dimensi data titanic : (891, 15)\n",
      "\n",
      "2. Informasi data titanic :\n",
      "\n",
      "<class 'pandas.core.frame.DataFrame'>\n",
      "RangeIndex: 891 entries, 0 to 890\n",
      "Data columns (total 15 columns):\n",
      " #   Column       Non-Null Count  Dtype   \n",
      "---  ------       --------------  -----   \n",
      " 0   survived     891 non-null    int64   \n",
      " 1   pclass       891 non-null    int64   \n",
      " 2   sex          891 non-null    object  \n",
      " 3   age          714 non-null    float64 \n",
      " 4   sibsp        891 non-null    int64   \n",
      " 5   parch        891 non-null    int64   \n",
      " 6   fare         891 non-null    float64 \n",
      " 7   embarked     889 non-null    object  \n",
      " 8   class        891 non-null    category\n",
      " 9   who          891 non-null    object  \n",
      " 10  adult_male   891 non-null    bool    \n",
      " 11  deck         203 non-null    category\n",
      " 12  embark_town  889 non-null    object  \n",
      " 13  alive        891 non-null    object  \n",
      " 14  alone        891 non-null    bool    \n",
      "dtypes: bool(2), category(2), float64(2), int64(4), object(5)\n",
      "memory usage: 80.7+ KB\n",
      "None\n",
      "\n",
      "3. Informasi statistical data titanic:\n",
      "\n",
      "         survived      pclass         age       sibsp       parch        fare\n",
      "count  891.000000  891.000000  714.000000  891.000000  891.000000  891.000000\n",
      "mean     0.383838    2.308642   29.699118    0.523008    0.381594   32.204208\n",
      "std      0.486592    0.836071   14.526497    1.102743    0.806057   49.693429\n",
      "min      0.000000    1.000000    0.420000    0.000000    0.000000    0.000000\n",
      "25%      0.000000    2.000000   20.125000    0.000000    0.000000    7.910400\n",
      "50%      0.000000    3.000000   28.000000    0.000000    0.000000   14.454200\n",
      "75%      1.000000    3.000000   38.000000    1.000000    0.000000   31.000000\n",
      "max      1.000000    3.000000   80.000000    8.000000    6.000000  512.329200\n",
      "\n",
      "4. Data kosong pada data titanic :\n",
      "\n",
      "survived         0\n",
      "pclass           0\n",
      "sex              0\n",
      "age            177\n",
      "sibsp            0\n",
      "parch            0\n",
      "fare             0\n",
      "embarked         2\n",
      "class            0\n",
      "who              0\n",
      "adult_male       0\n",
      "deck           688\n",
      "embark_town      2\n",
      "alive            0\n",
      "alone            0\n",
      "dtype: int64\n",
      "\n",
      "5. Total data kosong : 869\n"
     ]
    }
   ],
   "source": [
    "# cek semua hal mengenai data\n",
    "print('1. Ukuran dimensi data titanic :', titanic.shape)\n",
    "\n",
    "print('\\n2. Informasi data titanic :\\n')\n",
    "print(titanic.info())\n",
    "\n",
    "print('\\n3. Informasi statistical data titanic:\\n')\n",
    "print(titanic.describe())\n",
    "\n",
    "print('\\n4. Data kosong pada data titanic :\\n')\n",
    "print(titanic.isna().sum())\n",
    "\n",
    "print('\\n5. Total data kosong :', titanic.isna().sum().sum())"
   ]
  },
  {
   "cell_type": "markdown",
   "id": "faa38e40-2e4c-4dec-ae3d-6cb9f14dae30",
   "metadata": {},
   "source": [
    "Setelah sedikit mengeksplore data, beberapa hal yang didapati yaitu :\n",
    "1. Terdapat 891 baris dan 15 kolom \n",
    "2. Pada data describe kolom age, hasil min diketahui terdapat penumpang bayi masih berumur 5 bulan dan yang tertua berumur 80 tahun\n",
    "3. Terdapat 177 data kosong pada kolom age, 2 data kosong pada kolom embarked, 688 data kosong pada kolom deck, 2 data kosong pada kolom embark_town\n",
    "4. Maka total 869 data kosong pada data titanic ini."
   ]
  },
  {
   "cell_type": "code",
   "execution_count": 4,
   "id": "0a55e453-0b5c-4dd0-8815-baeccb348bbb",
   "metadata": {},
   "outputs": [
    {
     "name": "stderr",
     "output_type": "stream",
     "text": [
      "/home/dicky/.local/lib/python3.9/site-packages/seaborn/_decorators.py:36: FutureWarning: Pass the following variable as a keyword arg: x. From version 0.12, the only valid positional argument will be `data`, and passing other arguments without an explicit keyword will result in an error or misinterpretation.\n",
      "  warnings.warn(\n"
     ]
    },
    {
     "data": {
      "image/png": "[encoded data removed]",
      "text/plain": [
       "<Figure size 432x288 with 1 Axes>"
      ]
     },
     "metadata": {
      "needs_background": "light"
     },
     "output_type": "display_data"
    },
    {
     "name": "stdout",
     "output_type": "stream",
     "text": [
      "Adapun detail yang berhasil survive maupun tidak adalah sebagai berikut.\n",
      "\n"
     ]
    },
    {
     "data": {
      "text/plain": [
       "0    549\n",
       "1    342\n",
       "Name: survived, dtype: int64"
      ]
     },
     "execution_count": 4,
     "metadata": {},
     "output_type": "execute_result"
    }
   ],
   "source": [
    "# Kita coba menvisualisasikan data orang yang berhasil selamat dari bencana kapan titanic\n",
    "sns.countplot(titanic['survived'])\n",
    "plt.tight_layout()\n",
    "plt.show()\n",
    "\n",
    "print('Adapun detail yang berhasil survive maupun tidak adalah sebagai berikut.\\n')\n",
    "titanic['survived'].value_counts()"
   ]
  },
  {
   "cell_type": "markdown",
   "id": "b0b3e8cd-764f-4bb2-91d2-54cc0765a4e6",
   "metadata": {},
   "source": [
    "Data 0 merupakan data kematian, dan data 1 merupakan data yang berhasil selamat pada bencana kapan Titanic. Terlihat bahwa banyak yang tidak berhasil survive dari bencana kapan Titanic ini."
   ]
  },
  {
   "cell_type": "markdown",
   "id": "053e1296-a740-4bf7-9357-a1c4ad443b21",
   "metadata": {},
   "source": [
    "Selanjutnya akan coba memperlihatkan data berhasil survive maupun sebaliknnya terhadap kolom 'who', 'sex', 'pclass', 'sibsp', 'parch', 'embarked'"
   ]
  },
  {
   "cell_type": "code",
   "execution_count": 5,
   "id": "cb0bf52e-1136-4737-bef8-800679323b9f",
   "metadata": {},
   "outputs": [
    {
     "name": "stderr",
     "output_type": "stream",
     "text": [
      "/home/dicky/.local/lib/python3.9/site-packages/seaborn/_decorators.py:36: FutureWarning: Pass the following variable as a keyword arg: x. From version 0.12, the only valid positional argument will be `data`, and passing other arguments without an explicit keyword will result in an error or misinterpretation.\n",
      "  warnings.warn(\n",
      "/home/dicky/.local/lib/python3.9/site-packages/seaborn/_decorators.py:36: FutureWarning: Pass the following variable as a keyword arg: x. From version 0.12, the only valid positional argument will be `data`, and passing other arguments without an explicit keyword will result in an error or misinterpretation.\n",
      "  warnings.warn(\n",
      "/home/dicky/.local/lib/python3.9/site-packages/seaborn/_decorators.py:36: FutureWarning: Pass the following variable as a keyword arg: x. From version 0.12, the only valid positional argument will be `data`, and passing other arguments without an explicit keyword will result in an error or misinterpretation.\n",
      "  warnings.warn(\n",
      "/home/dicky/.local/lib/python3.9/site-packages/seaborn/_decorators.py:36: FutureWarning: Pass the following variable as a keyword arg: x. From version 0.12, the only valid positional argument will be `data`, and passing other arguments without an explicit keyword will result in an error or misinterpretation.\n",
      "  warnings.warn(\n",
      "/home/dicky/.local/lib/python3.9/site-packages/seaborn/_decorators.py:36: FutureWarning: Pass the following variable as a keyword arg: x. From version 0.12, the only valid positional argument will be `data`, and passing other arguments without an explicit keyword will result in an error or misinterpretation.\n",
      "  warnings.warn(\n",
      "/home/dicky/.local/lib/python3.9/site-packages/seaborn/_decorators.py:36: FutureWarning: Pass the following variable as a keyword arg: x. From version 0.12, the only valid positional argument will be `data`, and passing other arguments without an explicit keyword will result in an error or misinterpretation.\n",
      "  warnings.warn(\n"
     ]
    },
    {
     "data": {
      "image/png": "[encoded data removed]",
      "text/plain": [
       "<Figure size 1080x720 with 6 Axes>"
      ]
     },
     "metadata": {
      "needs_background": "light"
     },
     "output_type": "display_data"
    }
   ],
   "source": [
    "columns = ['who', 'sex', 'pclass', 'sibsp', 'parch', 'embarked']\n",
    "\n",
    "n_rows, n_cols = 2, 3\n",
    "\n",
    "fig, axs = plt.subplots(n_rows, n_cols, figsize=(15, 10))\n",
    "\n",
    "for r in range(0, n_rows):\n",
    "    for c in range(0, n_cols):\n",
    "        i = r*n_rows + c\n",
    "        ax = axs[r][c]\n",
    "        sns.countplot(titanic[columns[i]], hue=titanic['survived'], ax=ax)\n",
    "        ax.set_title(columns[i])\n",
    "        ax.legend(title='Survived', loc='upper right')\n",
    "\n",
    "plt.tight_layout()\n",
    "plt.show()"
   ]
  },
  {
   "cell_type": "code",
   "execution_count": 6,
   "id": "562205d2-e700-4375-b30f-ba41bb2a56b5",
   "metadata": {},
   "outputs": [
    {
     "data": {
      "text/plain": [
       "sex\n",
       "female    0.742038\n",
       "male      0.188908\n",
       "Name: survived, dtype: float64"
      ]
     },
     "execution_count": 6,
     "metadata": {},
     "output_type": "execute_result"
    }
   ],
   "source": [
    "# Jika kita ingin melihat rata-rata kematian male terhadap female maka menjadi seperti berikut.\n",
    "titanic.groupby('sex')['survived'].mean()"
   ]
  },
  {
   "cell_type": "markdown",
   "id": "d0af17cf-28bb-4a0a-9a8d-ca9489bf54ff",
   "metadata": {},
   "source": [
    "terlihat sangat kecilnya tingkat keselamatan pada laki-laki dibandingkan perempuan"
   ]
  },
  {
   "cell_type": "code",
   "execution_count": 7,
   "id": "a0b05ce4-1ed0-4358-84e4-51ae80776064",
   "metadata": {},
   "outputs": [
    {
     "name": "stdout",
     "output_type": "stream",
     "text": [
      "Data orang yang berhasil survive terhadap umur yang dilihat dari kelas kamar yang mereka ambil :\n",
      "\n",
      "class      First    Second     Third\n",
      "sex                                 \n",
      "female  0.968085  0.921053  0.500000\n",
      "male    0.368852  0.157407  0.135447\n"
     ]
    },
    {
     "data": {
      "text/plain": [
       "<AxesSubplot:title={'center':'\\nHuman has survived by sex and class'}, xlabel='sex'>"
      ]
     },
     "execution_count": 7,
     "metadata": {},
     "output_type": "execute_result"
    },
    {
     "data": {
      "image/png": "[encoded data removed]",
      "text/plain": [
       "<Figure size 432x288 with 1 Axes>"
      ]
     },
     "metadata": {
      "needs_background": "light"
     },
     "output_type": "display_data"
    }
   ],
   "source": [
    "# Jika kita ingin melihat data berhasil survive terhadap umur yang dilihat dari kelas kapan yang mereka miliki saat itu\n",
    "print('Data orang yang berhasil survive terhadap umur yang dilihat dari kelas kamar yang mereka ambil :\\n')\n",
    "print(titanic.pivot_table('survived',index='sex', columns='class'))\n",
    "\n",
    "titanic.pivot_table('survived',index='sex', columns='class').plot(title='\\nHuman has survived by sex and class')"
   ]
  },
  {
   "cell_type": "code",
   "execution_count": 8,
   "id": "9dcef616-3a26-4299-8f8e-a2e8d9c0cb1d",
   "metadata": {},
   "outputs": [
    {
     "data": {
      "image/png": "[encoded data removed]",
      "text/plain": [
       "<Figure size 432x288 with 1 Axes>"
      ]
     },
     "metadata": {
      "needs_background": "light"
     },
     "output_type": "display_data"
    }
   ],
   "source": [
    "# dapat lebih jelasnya kita bisa melihat data keselamatan berdasarkan class kapal sebagai berikut.\n",
    "sns.barplot(x='class', y='survived', data=titanic)\n",
    "plt.title('Human has survived by class', c='blue', pad=20)\n",
    "plt.tight_layout()\n",
    "plt.show()"
   ]
  },
  {
   "cell_type": "markdown",
   "id": "9046345d-0da6-4891-a1d9-908ff02e071e",
   "metadata": {},
   "source": [
    "Pada grafik memperlihatkan data keselamatan penumpang kapan titanic berdasarkan class yang mereka ambil. Data keselamatan paling kecil terdapat pada class 3 kemudian data keselamatan paling tinggi terdapat pada kelas 1."
   ]
  },
  {
   "cell_type": "code",
   "execution_count": 9,
   "id": "53300204-6268-40cc-bf34-d2f51392ed8b",
   "metadata": {},
   "outputs": [
    {
     "data": {
      "text/html": [
       "<div>\n",
       "<style scoped>\n",
       "    .dataframe tbody tr th:only-of-type {\n",
       "        vertical-align: middle;\n",
       "    }\n",
       "\n",
       "    .dataframe tbody tr th {\n",
       "        vertical-align: top;\n",
       "    }\n",
       "\n",
       "    .dataframe thead th {\n",
       "        text-align: right;\n",
       "    }\n",
       "</style>\n",
       "<table border=\"1\" class=\"dataframe\">\n",
       "  <thead>\n",
       "    <tr style=\"text-align: right;\">\n",
       "      <th></th>\n",
       "      <th>class</th>\n",
       "      <th>First</th>\n",
       "      <th>Second</th>\n",
       "      <th>Third</th>\n",
       "    </tr>\n",
       "    <tr>\n",
       "      <th>sex</th>\n",
       "      <th>age</th>\n",
       "      <th></th>\n",
       "      <th></th>\n",
       "      <th></th>\n",
       "    </tr>\n",
       "  </thead>\n",
       "  <tbody>\n",
       "    <tr>\n",
       "      <th rowspan=\"2\" valign=\"top\">female</th>\n",
       "      <th>(0, 18]</th>\n",
       "      <td>0.909091</td>\n",
       "      <td>1.000000</td>\n",
       "      <td>0.511628</td>\n",
       "    </tr>\n",
       "    <tr>\n",
       "      <th>(18, 80]</th>\n",
       "      <td>0.972973</td>\n",
       "      <td>0.900000</td>\n",
       "      <td>0.423729</td>\n",
       "    </tr>\n",
       "    <tr>\n",
       "      <th rowspan=\"2\" valign=\"top\">male</th>\n",
       "      <th>(0, 18]</th>\n",
       "      <td>0.800000</td>\n",
       "      <td>0.600000</td>\n",
       "      <td>0.215686</td>\n",
       "    </tr>\n",
       "    <tr>\n",
       "      <th>(18, 80]</th>\n",
       "      <td>0.375000</td>\n",
       "      <td>0.071429</td>\n",
       "      <td>0.133663</td>\n",
       "    </tr>\n",
       "  </tbody>\n",
       "</table>\n",
       "</div>"
      ],
      "text/plain": [
       "class               First    Second     Third\n",
       "sex    age                                   \n",
       "female (0, 18]   0.909091  1.000000  0.511628\n",
       "       (18, 80]  0.972973  0.900000  0.423729\n",
       "male   (0, 18]   0.800000  0.600000  0.215686\n",
       "       (18, 80]  0.375000  0.071429  0.133663"
      ]
     },
     "execution_count": 9,
     "metadata": {},
     "output_type": "execute_result"
    }
   ],
   "source": [
    "# melihat tingkat survival rate berdasarkan sex, age, dan class\n",
    "\n",
    "age = pd.cut(titanic['age'], [0, 18, 80])\n",
    "\n",
    "titanic.pivot_table('survived', index=['sex', age], columns='class')"
   ]
  },
  {
   "cell_type": "markdown",
   "id": "eae9a61f-351b-481d-bd42-4e1f89399c47",
   "metadata": {},
   "source": [
    "Dapat kita lihat bahwa tingkat survive terbesar ada pada jenis kelamin perempuan umur (0, 18] di class 2 sebesar 1. dan tingkat survive terkecil dapat dilihat pada jenis kelamin laki-laki umur (18, 80) di class 2 sebesar 0.071492."
   ]
  },
  {
   "cell_type": "code",
   "execution_count": 10,
   "id": "33eeda64-18c0-48b4-8e95-57885705e2ad",
   "metadata": {},
   "outputs": [
    {
     "data": {
      "image/png": "[encoded data removed]",
      "text/plain": [
       "<Figure size 432x288 with 1 Axes>"
      ]
     },
     "metadata": {
      "needs_background": "light"
     },
     "output_type": "display_data"
    }
   ],
   "source": [
    "# plot harga yang dibayarkan setiap kelas\n",
    "\n",
    "plt.scatter(x=titanic['fare'], y=titanic['class'], color='brown', label='Passenger Paid')\n",
    "plt.title('Price of Each Class', pad=20)\n",
    "plt.ylabel('Class')\n",
    "plt.xlabel('Price / Fare')\n",
    "plt.legend()\n",
    "plt.show()"
   ]
  },
  {
   "cell_type": "markdown",
   "id": "8f05a8b6-6bef-4cc3-8b6d-64bf8cb20010",
   "metadata": {},
   "source": [
    "Ada beberapa hal menarik yang dapat kita lihat dari hasil plot scutter. Terlebih dahulu saya coba menjelaskan mengenai grafik ini, grafik ini memperlihatkan banyak penumpang yang membayar harga kamar/class pada kapal titanic. \n",
    "1. terdapat penumpang yang membayar harga kamar 1 dengan harga yang sangat fantastis yaitu di atas 500 pund Inggris saat itu.\n",
    "2. hal menarik selanjutnya adalah, terdapat penumpang yang tidak membayar pada setiap kelasnya, dapat dilihat dari dots pada sumbu x = 0"
   ]
  },
  {
   "cell_type": "markdown",
   "id": "a6047b79-612e-4159-890e-cbdb7ff9061d",
   "metadata": {
    "jp-MarkdownHeadingCollapsed": true,
    "tags": []
   },
   "source": [
    "### 2. Data Cleaning"
   ]
  },
  {
   "cell_type": "markdown",
   "id": "4b3cd5ac-e9ec-476c-b643-ae90ffd5ffb7",
   "metadata": {},
   "source": [
    "Pada tahap kedua ini, kita akan coba membersihkan data dengan melihat pada tahap satu terdapat banyak data kosong, dan juga kita akan sedikit merapikan data karena terdapat data column yang memiliki makna sama."
   ]
  },
  {
   "cell_type": "code",
   "execution_count": 11,
   "id": "34ea10ec-de10-43b9-92f4-73126fe7c144",
   "metadata": {},
   "outputs": [
    {
     "name": "stdout",
     "output_type": "stream",
     "text": [
      "0    549\n",
      "1    342\n",
      "Name: survived, dtype: int64\n",
      "\n",
      "3    491\n",
      "1    216\n",
      "2    184\n",
      "Name: pclass, dtype: int64\n",
      "\n",
      "male      577\n",
      "female    314\n",
      "Name: sex, dtype: int64\n",
      "\n",
      "24.00    30\n",
      "22.00    27\n",
      "18.00    26\n",
      "19.00    25\n",
      "28.00    25\n",
      "         ..\n",
      "36.50     1\n",
      "55.50     1\n",
      "0.92      1\n",
      "23.50     1\n",
      "74.00     1\n",
      "Name: age, Length: 88, dtype: int64\n",
      "\n",
      "0    608\n",
      "1    209\n",
      "2     28\n",
      "4     18\n",
      "3     16\n",
      "8      7\n",
      "5      5\n",
      "Name: sibsp, dtype: int64\n",
      "\n",
      "0    678\n",
      "1    118\n",
      "2     80\n",
      "5      5\n",
      "3      5\n",
      "4      4\n",
      "6      1\n",
      "Name: parch, dtype: int64\n",
      "\n",
      "8.0500     43\n",
      "13.0000    42\n",
      "7.8958     38\n",
      "7.7500     34\n",
      "26.0000    31\n",
      "           ..\n",
      "35.0000     1\n",
      "28.5000     1\n",
      "6.2375      1\n",
      "14.0000     1\n",
      "10.5167     1\n",
      "Name: fare, Length: 248, dtype: int64\n",
      "\n",
      "S    644\n",
      "C    168\n",
      "Q     77\n",
      "Name: embarked, dtype: int64\n",
      "\n",
      "Third     491\n",
      "First     216\n",
      "Second    184\n",
      "Name: class, dtype: int64\n",
      "\n",
      "man      537\n",
      "woman    271\n",
      "child     83\n",
      "Name: who, dtype: int64\n",
      "\n",
      "True     537\n",
      "False    354\n",
      "Name: adult_male, dtype: int64\n",
      "\n",
      "C    59\n",
      "B    47\n",
      "D    33\n",
      "E    32\n",
      "A    15\n",
      "F    13\n",
      "G     4\n",
      "Name: deck, dtype: int64\n",
      "\n",
      "Southampton    644\n",
      "Cherbourg      168\n",
      "Queenstown      77\n",
      "Name: embark_town, dtype: int64\n",
      "\n",
      "no     549\n",
      "yes    342\n",
      "Name: alive, dtype: int64\n",
      "\n",
      "True     537\n",
      "False    354\n",
      "Name: alone, dtype: int64\n",
      "\n"
     ]
    }
   ],
   "source": [
    "# Kita akan coba melihat setiap data dari column titanic\n",
    "\n",
    "for i in titanic:\n",
    "    print(titanic[i].value_counts())\n",
    "    print()"
   ]
  },
  {
   "cell_type": "markdown",
   "id": "98831a7b-8c06-4bc7-8027-3e6e361e173c",
   "metadata": {},
   "source": [
    "1. Terlihat pada data column class dan pclass memiliki data yang sama begitu juga data column embark dan embark_town memiliki data yang sama.\n",
    "2. Pada data column alive dan data survived memiliki data yang sama -> kita akan mengambil data survived karena data tersebut merupakan data numerikal yaitu (0, 1) agar kita tidak perlu lagi mentransformasikan data tersebut.\n",
    "3. Pada data column deck terdapat sangat banyak sekali data kosong, agar tidak mengganggu proses machine learning nanti nya, kita akan membuang data column deck tersebut.\n",
    "4. Pada data column who, mungkin kita tidak terlalu memerlukan ini karena sudah di wakili oleh data column sex dan juga kita tidak terlalu perlu mengetahui apakah ia seorang laki-laki dewasa, ataupun perempuan dewasa ataupun anak-anak. begitu juga dengan data column adult_male."
   ]
  },
  {
   "cell_type": "code",
   "execution_count": 12,
   "id": "95a772ef-6d62-4631-a273-3f8af3b14edc",
   "metadata": {},
   "outputs": [],
   "source": [
    "# Drop/hapus colomns yang tidak diperlukan\n",
    "titanic.drop(['deck', 'embark_town', 'alive', 'class', 'who', 'adult_male'], axis = 1, inplace=True)\n",
    "\n",
    "# kemdudian kita akan menghapus data kosong pada data titanic yang baru\n",
    "titanic = titanic.dropna()"
   ]
  },
  {
   "cell_type": "code",
   "execution_count": 13,
   "id": "5b1d24ff-8ac5-482d-a1f8-57aa0d5a7d86",
   "metadata": {},
   "outputs": [
    {
     "data": {
      "text/html": [
       "<div>\n",
       "<style scoped>\n",
       "    .dataframe tbody tr th:only-of-type {\n",
       "        vertical-align: middle;\n",
       "    }\n",
       "\n",
       "    .dataframe tbody tr th {\n",
       "        vertical-align: top;\n",
       "    }\n",
       "\n",
       "    .dataframe thead th {\n",
       "        text-align: right;\n",
       "    }\n",
       "</style>\n",
       "<table border=\"1\" class=\"dataframe\">\n",
       "  <thead>\n",
       "    <tr style=\"text-align: right;\">\n",
       "      <th></th>\n",
       "      <th>survived</th>\n",
       "      <th>pclass</th>\n",
       "      <th>sex</th>\n",
       "      <th>age</th>\n",
       "      <th>sibsp</th>\n",
       "      <th>parch</th>\n",
       "      <th>fare</th>\n",
       "      <th>embarked</th>\n",
       "      <th>alone</th>\n",
       "    </tr>\n",
       "  </thead>\n",
       "  <tbody>\n",
       "    <tr>\n",
       "      <th>0</th>\n",
       "      <td>0</td>\n",
       "      <td>3</td>\n",
       "      <td>male</td>\n",
       "      <td>22.0</td>\n",
       "      <td>1</td>\n",
       "      <td>0</td>\n",
       "      <td>7.2500</td>\n",
       "      <td>S</td>\n",
       "      <td>False</td>\n",
       "    </tr>\n",
       "    <tr>\n",
       "      <th>1</th>\n",
       "      <td>1</td>\n",
       "      <td>1</td>\n",
       "      <td>female</td>\n",
       "      <td>38.0</td>\n",
       "      <td>1</td>\n",
       "      <td>0</td>\n",
       "      <td>71.2833</td>\n",
       "      <td>C</td>\n",
       "      <td>False</td>\n",
       "    </tr>\n",
       "    <tr>\n",
       "      <th>2</th>\n",
       "      <td>1</td>\n",
       "      <td>3</td>\n",
       "      <td>female</td>\n",
       "      <td>26.0</td>\n",
       "      <td>0</td>\n",
       "      <td>0</td>\n",
       "      <td>7.9250</td>\n",
       "      <td>S</td>\n",
       "      <td>True</td>\n",
       "    </tr>\n",
       "    <tr>\n",
       "      <th>3</th>\n",
       "      <td>1</td>\n",
       "      <td>1</td>\n",
       "      <td>female</td>\n",
       "      <td>35.0</td>\n",
       "      <td>1</td>\n",
       "      <td>0</td>\n",
       "      <td>53.1000</td>\n",
       "      <td>S</td>\n",
       "      <td>False</td>\n",
       "    </tr>\n",
       "    <tr>\n",
       "      <th>4</th>\n",
       "      <td>0</td>\n",
       "      <td>3</td>\n",
       "      <td>male</td>\n",
       "      <td>35.0</td>\n",
       "      <td>0</td>\n",
       "      <td>0</td>\n",
       "      <td>8.0500</td>\n",
       "      <td>S</td>\n",
       "      <td>True</td>\n",
       "    </tr>\n",
       "  </tbody>\n",
       "</table>\n",
       "</div>"
      ],
      "text/plain": [
       "   survived  pclass     sex   age  sibsp  parch     fare embarked  alone\n",
       "0         0       3    male  22.0      1      0   7.2500        S  False\n",
       "1         1       1  female  38.0      1      0  71.2833        C  False\n",
       "2         1       3  female  26.0      0      0   7.9250        S   True\n",
       "3         1       1  female  35.0      1      0  53.1000        S  False\n",
       "4         0       3    male  35.0      0      0   8.0500        S   True"
      ]
     },
     "execution_count": 13,
     "metadata": {},
     "output_type": "execute_result"
    }
   ],
   "source": [
    "# maka berikut merupakan data titanic yang telah dilakukan data cleaning\n",
    "titanic.head()"
   ]
  },
  {
   "cell_type": "code",
   "execution_count": 14,
   "id": "9e5d9162-3250-4cc5-a82c-7039361d549a",
   "metadata": {},
   "outputs": [
    {
     "data": {
      "text/plain": [
       "(712, 9)"
      ]
     },
     "execution_count": 14,
     "metadata": {},
     "output_type": "execute_result"
    }
   ],
   "source": [
    "# kemudian berikut dimensi data titanic setelah dilakukan cleaning data\n",
    "titanic.shape"
   ]
  },
  {
   "cell_type": "code",
   "execution_count": 15,
   "id": "f8694936-46b0-4af7-ad82-cb5fda2236c3",
   "metadata": {},
   "outputs": [
    {
     "data": {
      "text/plain": [
       "survived      int64\n",
       "pclass        int64\n",
       "sex          object\n",
       "age         float64\n",
       "sibsp         int64\n",
       "parch         int64\n",
       "fare        float64\n",
       "embarked     object\n",
       "alone          bool\n",
       "dtype: object"
      ]
     },
     "execution_count": 15,
     "metadata": {},
     "output_type": "execute_result"
    }
   ],
   "source": [
    "# selanjutkan kita akan mencoba mentransformasikan data menjadi data numerik. Terlebih dahulu kita melihat tipe data yang kita miliki\n",
    "titanic.dtypes"
   ]
  },
  {
   "cell_type": "markdown",
   "id": "29e83390-0563-4763-a787-2d0673c6f7c5",
   "metadata": {},
   "source": [
    "kita memiliki data column sex, embarked, alone yang bukan merupakan data column numerik"
   ]
  },
  {
   "cell_type": "markdown",
   "id": "59022952-b155-4d6c-a377-a2ef42010478",
   "metadata": {
    "jp-MarkdownHeadingCollapsed": true,
    "tags": []
   },
   "source": [
    "### 3. Preprocessing Data"
   ]
  },
  {
   "cell_type": "markdown",
   "id": "0d95fc46-c5ae-456c-aa76-92383e2f6500",
   "metadata": {},
   "source": [
    "Pada tahap ketiga ini, kita akan melakukan transformasi data non numerik menjadi numerik dengan bantuan sckit-learn. hal ini bertujuan agar machine learning dapat mengeksekusi data yang kita miliki. "
   ]
  },
  {
   "cell_type": "markdown",
   "id": "324a1504-fb46-4f50-a7ff-e4ea3f027659",
   "metadata": {
    "jp-MarkdownHeadingCollapsed": true,
    "tags": []
   },
   "source": [
    "#### Step-1: Transformasi Data"
   ]
  },
  {
   "cell_type": "code",
   "execution_count": 16,
   "id": "763f41f4-0567-44b8-a627-95e87dd3a089",
   "metadata": {},
   "outputs": [],
   "source": [
    "from sklearn.preprocessing import LabelEncoder\n",
    "\n",
    "LE = LabelEncoder()"
   ]
  },
  {
   "cell_type": "code",
   "execution_count": 17,
   "id": "e631ae8e-7efb-47be-9564-c8ff0ca0753c",
   "metadata": {},
   "outputs": [
    {
     "data": {
      "text/plain": [
       "survived      int64\n",
       "pclass        int64\n",
       "sex          object\n",
       "age         float64\n",
       "sibsp         int64\n",
       "parch         int64\n",
       "fare        float64\n",
       "embarked     object\n",
       "alone          bool\n",
       "dtype: object"
      ]
     },
     "execution_count": 17,
     "metadata": {},
     "output_type": "execute_result"
    }
   ],
   "source": [
    "# Kita akan coba lihat tipe data column yang kita miliki terlebih dahulu\n",
    "titanic.dtypes"
   ]
  },
  {
   "cell_type": "markdown",
   "id": "41eabab7-9b13-4172-a85a-9ab4fd608a4c",
   "metadata": {},
   "source": [
    "terlihat bahwa data column sex, embarked dan alone bukan merupakan tipe data numerik. maka kita akan melakukan transformasi pada ketiga data column tersebut."
   ]
  },
  {
   "cell_type": "code",
   "execution_count": 18,
   "id": "f01666ea-e1de-4466-aa98-18fda080cf33",
   "metadata": {},
   "outputs": [
    {
     "name": "stdout",
     "output_type": "stream",
     "text": [
      "Column Sex :\n",
      " ['male' 'female']\n",
      "\n",
      "Column embarked :\n",
      " ['S' 'C' 'Q']\n",
      "\n",
      "Column alone :\n",
      " [False  True]\n"
     ]
    }
   ],
   "source": [
    "# Kita akan coba melihat .unique() terhadap data non-numerik terlebih dahulu agar kita bisa melihat perubahan yang terjadi.\n",
    "print('Column Sex :\\n', titanic['sex'].unique())\n",
    "\n",
    "print('\\nColumn embarked :\\n', titanic['embarked'].unique())\n",
    "\n",
    "print('\\nColumn alone :\\n', titanic['alone'].unique())"
   ]
  },
  {
   "cell_type": "code",
   "execution_count": 19,
   "id": "c5b34b97-3d38-482a-9537-5e8d637041fe",
   "metadata": {},
   "outputs": [
    {
     "name": "stdout",
     "output_type": "stream",
     "text": [
      "Column Sex :\n",
      " ['female' 'male']\n",
      "\n",
      "Column embarked :\n",
      " ['C' 'Q' 'S']\n",
      "\n",
      "Column alone :\n",
      " [False  True]\n"
     ]
    }
   ],
   "source": [
    "# Transformasi data non-numerik menjadi numerik.\n",
    "titanic['sex'] = LE.fit_transform(titanic['sex'])\n",
    "print('Column Sex :\\n', LE.classes_)\n",
    "\n",
    "titanic['embarked'] = LE.fit_transform(titanic['embarked'])\n",
    "print('\\nColumn embarked :\\n', LE.classes_)\n",
    "\n",
    "titanic['alone'] = LE.fit_transform(titanic['alone'])\n",
    "print('\\nColumn alone :\\n', LE.classes_)"
   ]
  },
  {
   "cell_type": "markdown",
   "id": "b912d83b-f756-4ff9-abcf-973d0ffc333c",
   "metadata": {},
   "source": [
    "Setelah dilakukan transformasi dengan bantuan sckit-learn, maka data non-numerik di ubah menjadi berikut.\n",
    "1. Column sex : \n",
    "   - male   -> 0\n",
    "   - female -> 1\n",
    "2. Column embarked :\n",
    "   - S -> 0\n",
    "   - C -> 1\n",
    "   - Q -> 2\n",
    "3. Column alone :\n",
    "   - False -> 0\n",
    "   - True  -> 1"
   ]
  },
  {
   "cell_type": "code",
   "execution_count": 20,
   "id": "c9d51a93-d655-4e1c-a7c6-80d0d13e9334",
   "metadata": {},
   "outputs": [
    {
     "data": {
      "text/html": [
       "<div>\n",
       "<style scoped>\n",
       "    .dataframe tbody tr th:only-of-type {\n",
       "        vertical-align: middle;\n",
       "    }\n",
       "\n",
       "    .dataframe tbody tr th {\n",
       "        vertical-align: top;\n",
       "    }\n",
       "\n",
       "    .dataframe thead th {\n",
       "        text-align: right;\n",
       "    }\n",
       "</style>\n",
       "<table border=\"1\" class=\"dataframe\">\n",
       "  <thead>\n",
       "    <tr style=\"text-align: right;\">\n",
       "      <th></th>\n",
       "      <th>survived</th>\n",
       "      <th>pclass</th>\n",
       "      <th>sex</th>\n",
       "      <th>age</th>\n",
       "      <th>sibsp</th>\n",
       "      <th>parch</th>\n",
       "      <th>fare</th>\n",
       "      <th>embarked</th>\n",
       "      <th>alone</th>\n",
       "    </tr>\n",
       "  </thead>\n",
       "  <tbody>\n",
       "    <tr>\n",
       "      <th>0</th>\n",
       "      <td>0</td>\n",
       "      <td>3</td>\n",
       "      <td>1</td>\n",
       "      <td>22.0</td>\n",
       "      <td>1</td>\n",
       "      <td>0</td>\n",
       "      <td>7.2500</td>\n",
       "      <td>2</td>\n",
       "      <td>0</td>\n",
       "    </tr>\n",
       "    <tr>\n",
       "      <th>1</th>\n",
       "      <td>1</td>\n",
       "      <td>1</td>\n",
       "      <td>0</td>\n",
       "      <td>38.0</td>\n",
       "      <td>1</td>\n",
       "      <td>0</td>\n",
       "      <td>71.2833</td>\n",
       "      <td>0</td>\n",
       "      <td>0</td>\n",
       "    </tr>\n",
       "    <tr>\n",
       "      <th>2</th>\n",
       "      <td>1</td>\n",
       "      <td>3</td>\n",
       "      <td>0</td>\n",
       "      <td>26.0</td>\n",
       "      <td>0</td>\n",
       "      <td>0</td>\n",
       "      <td>7.9250</td>\n",
       "      <td>2</td>\n",
       "      <td>1</td>\n",
       "    </tr>\n",
       "    <tr>\n",
       "      <th>3</th>\n",
       "      <td>1</td>\n",
       "      <td>1</td>\n",
       "      <td>0</td>\n",
       "      <td>35.0</td>\n",
       "      <td>1</td>\n",
       "      <td>0</td>\n",
       "      <td>53.1000</td>\n",
       "      <td>2</td>\n",
       "      <td>0</td>\n",
       "    </tr>\n",
       "    <tr>\n",
       "      <th>4</th>\n",
       "      <td>0</td>\n",
       "      <td>3</td>\n",
       "      <td>1</td>\n",
       "      <td>35.0</td>\n",
       "      <td>0</td>\n",
       "      <td>0</td>\n",
       "      <td>8.0500</td>\n",
       "      <td>2</td>\n",
       "      <td>1</td>\n",
       "    </tr>\n",
       "  </tbody>\n",
       "</table>\n",
       "</div>"
      ],
      "text/plain": [
       "   survived  pclass  sex   age  sibsp  parch     fare  embarked  alone\n",
       "0         0       3    1  22.0      1      0   7.2500         2      0\n",
       "1         1       1    0  38.0      1      0  71.2833         0      0\n",
       "2         1       3    0  26.0      0      0   7.9250         2      1\n",
       "3         1       1    0  35.0      1      0  53.1000         2      0\n",
       "4         0       3    1  35.0      0      0   8.0500         2      1"
      ]
     },
     "execution_count": 20,
     "metadata": {},
     "output_type": "execute_result"
    }
   ],
   "source": [
    "# Sehingga data setelah di tranformasi numerik menjadi seperti berikut.\n",
    "titanic.head()"
   ]
  },
  {
   "cell_type": "code",
   "execution_count": 21,
   "id": "27e80bbc-0102-41ca-bacf-2078edb5f2a0",
   "metadata": {},
   "outputs": [
    {
     "data": {
      "text/plain": [
       "survived      int64\n",
       "pclass        int64\n",
       "sex           int64\n",
       "age         float64\n",
       "sibsp         int64\n",
       "parch         int64\n",
       "fare        float64\n",
       "embarked      int64\n",
       "alone         int64\n",
       "dtype: object"
      ]
     },
     "execution_count": 21,
     "metadata": {},
     "output_type": "execute_result"
    }
   ],
   "source": [
    "# Kemdian kita coba melihat kembali dtypes dari dataset titanic yang kita miliki sekarang.\n",
    "titanic.dtypes"
   ]
  },
  {
   "cell_type": "markdown",
   "id": "b329ce9f-5781-4eb3-851a-8d89461dcaae",
   "metadata": {},
   "source": [
    "semua data sudah menjadi tipe data numerik."
   ]
  },
  {
   "cell_type": "markdown",
   "id": "d1710063-c651-45fc-982f-e35d34f8cb8d",
   "metadata": {
    "jp-MarkdownHeadingCollapsed": true,
    "tags": []
   },
   "source": [
    "#### Step-2: Membagi 2 data yaitu data target (y) dan data olahan (X)"
   ]
  },
  {
   "cell_type": "code",
   "execution_count": 22,
   "id": "61dbfc3f-714f-4988-8fe5-ea82d1696fc8",
   "metadata": {},
   "outputs": [],
   "source": [
    "# kita akan memilah data menjadi data target (y) yang dimana target kita merupakan data orang selamat/survived dari data olahan yaitu X\n",
    "\n",
    "X = titanic.drop('survived', axis=1)\n",
    "y = titanic['survived']"
   ]
  },
  {
   "cell_type": "markdown",
   "id": "fb3a9b4e-152c-40c5-a036-ab5357bfe09d",
   "metadata": {
    "jp-MarkdownHeadingCollapsed": true,
    "tags": []
   },
   "source": [
    "### 4. Model Machine Learning"
   ]
  },
  {
   "cell_type": "markdown",
   "id": "e5e12f51-cc33-4538-89d0-1f641cc3976b",
   "metadata": {},
   "source": [
    "Selanjutnya kita kan membagi data yang kita miliki menjadi 80:20. yaitu 80% training, dan 20% testing test. Menggunakan bantuan sckit-learn"
   ]
  },
  {
   "cell_type": "code",
   "execution_count": 34,
   "id": "1d3cfaaf-4d0c-412f-9820-536dc5c88914",
   "metadata": {},
   "outputs": [],
   "source": [
    "from sklearn.model_selection import train_test_split\n",
    "\n",
    "X_train, X_test, y_train, y_test = train_test_split(X, y, test_size=0.2, random_state=0)"
   ]
  },
  {
   "cell_type": "code",
   "execution_count": 35,
   "id": "d4ef3b97-6076-467c-92e5-713d26cfd702",
   "metadata": {},
   "outputs": [],
   "source": [
    "# Kita perlu melakukan scaling data pada data olahan kita, agar memiliki interval nilai yang sama\n",
    "from sklearn.preprocessing import StandardScaler\n",
    "sc = StandardScaler()\n",
    "\n",
    "X_train = sc.fit_transform(X_train)\n",
    "X_test = sc.fit_transform(X_test)"
   ]
  },
  {
   "cell_type": "code",
   "execution_count": 76,
   "id": "10e175d1-a26b-4397-91c1-13d424332acb",
   "metadata": {},
   "outputs": [],
   "source": [
    "# membuat fungsi machine learning dengan 3 metode yaitu LogisticRegression, DecisionTreeClassifier, dan KNeighborsClassifier\n",
    "\n",
    "def models(X_train, y_train):\n",
    "    \n",
    "    # menggunakan LogisticRegression\n",
    "    from sklearn.linear_model import LogisticRegression\n",
    "    logreg = LogisticRegression(random_state=0)\n",
    "    logreg = logreg.fit(X_train, y_train)\n",
    "    y_pred_logreg = logreg.predict(X_test)\n",
    "    \n",
    "    # menggunakan DecisionTreeClassifier\n",
    "    from sklearn.tree import DecisionTreeClassifier\n",
    "    tree = DecisionTreeClassifier(criterion='entropy', random_state=0)\n",
    "    tree = tree.fit(X_train, y_train)\n",
    "    y_pred_tree = tree.predict(X_test)\n",
    "    \n",
    "    # menggunakan KNeighborsClassifier\n",
    "    from sklearn.neighbors import KNeighborsClassifier\n",
    "    knn = KNeighborsClassifier(n_neighbors=5, metric = 'minkowski', p=2)\n",
    "    knn = knn.fit(X_train, y_train)\n",
    "    y_pred_knn = knn.predict(X_test)\n",
    "    \n",
    "    # untuk menghitung accurasi dapat menggunakan .score() dan juga menggunakan bantuan sckit-learn metrics\n",
    "    from sklearn.metrics import confusion_matrix, classification_report\n",
    "    \n",
    "    print('1. LogisticRegreesion Accuracy :', logreg.score(X_train, y_train))\n",
    "    print('\\n   LogisticRegreesion Confusion Matrix :\\n', confusion_matrix(y_test, y_pred_logreg, labels=[1,0]))\n",
    "    print('\\n   LogisticRegreesion Classification Report :\\n', classification_report(y_test, y_pred_logreg))\n",
    "    \n",
    "    print('\\n2. DecisionTreeClassifier Accuracy :', tree.score(X_train, y_train))\n",
    "    print('\\n   DecisionTreeClassifier Confusion Matrix :\\n', confusion_matrix(y_test, y_pred_tree, labels=[1,0]))\n",
    "    print('\\n   DecisionTreeClassifier Classification Report :\\n', classification_report(y_test, y_pred_tree))\n",
    "    \n",
    "    print('\\n3. KNeighborsClassifier Accuracy :', knn.score(X_train, y_train))\n",
    "    print('\\n   KNeighborsClassifier Confusion Matrix :\\n', confusion_matrix(y_test, y_pred_knn, labels=[1,0]))\n",
    "    print('\\n   KNeighborsClassifier Classification Report :\\n', classification_report(y_test, y_pred_knn))\n",
    "    \n",
    "    return y_pred_logreg, y_pred_tree, y_pred_knn"
   ]
  },
  {
   "cell_type": "code",
   "execution_count": 77,
   "id": "25d67fca-5990-46fa-ac3d-f51bec83f932",
   "metadata": {},
   "outputs": [
    {
     "name": "stdout",
     "output_type": "stream",
     "text": [
      "1. LogisticRegreesion Accuracy : 0.7978910369068541\n",
      "\n",
      "   LogisticRegreesion Confusion Matrix :\n",
      " [[42 19]\n",
      " [ 9 73]]\n",
      "\n",
      "   LogisticRegreesion Classification Report :\n",
      "               precision    recall  f1-score   support\n",
      "\n",
      "           0       0.79      0.89      0.84        82\n",
      "           1       0.82      0.69      0.75        61\n",
      "\n",
      "    accuracy                           0.80       143\n",
      "   macro avg       0.81      0.79      0.79       143\n",
      "weighted avg       0.81      0.80      0.80       143\n",
      "\n",
      "\n",
      "2. DecisionTreeClassifier Accuracy : 0.9929701230228472\n",
      "\n",
      "   DecisionTreeClassifier Confusion Matrix :\n",
      " [[50 11]\n",
      " [28 54]]\n",
      "\n",
      "   DecisionTreeClassifier Classification Report :\n",
      "               precision    recall  f1-score   support\n",
      "\n",
      "           0       0.83      0.66      0.73        82\n",
      "           1       0.64      0.82      0.72        61\n",
      "\n",
      "    accuracy                           0.73       143\n",
      "   macro avg       0.74      0.74      0.73       143\n",
      "weighted avg       0.75      0.73      0.73       143\n",
      "\n",
      "\n",
      "3. KNeighborsClassifier Accuracy : 0.8664323374340949\n",
      "\n",
      "   KNeighborsClassifier Confusion Matrix :\n",
      " [[41 20]\n",
      " [15 67]]\n",
      "\n",
      "   KNeighborsClassifier Classification Report :\n",
      "               precision    recall  f1-score   support\n",
      "\n",
      "           0       0.77      0.82      0.79        82\n",
      "           1       0.73      0.67      0.70        61\n",
      "\n",
      "    accuracy                           0.76       143\n",
      "   macro avg       0.75      0.74      0.75       143\n",
      "weighted avg       0.75      0.76      0.75       143\n",
      "\n"
     ]
    }
   ],
   "source": [
    "model = models(X_train, y_train)"
   ]
  },
  {
   "cell_type": "markdown",
   "id": "93f9b57f-768c-40f2-8e86-41f373bb874a",
   "metadata": {
    "jp-MarkdownHeadingCollapsed": true,
    "tags": []
   },
   "source": [
    "### 5. Kesimpulan"
   ]
  },
  {
   "cell_type": "markdown",
   "id": "7d2e03a6-c204-416f-8d83-2614c0a3d523",
   "metadata": {},
   "source": [
    "- Pada tingkat accuracy yang didapatkan dari ketiga metode yang digunakan, kita mendapatkan accuracy tertinggi sampai terendah adalah sebagai berikut.\n",
    "   1. DecisionTreeClassifier Accuracy : 0.9929701230228472\n",
    "   2. KNeighborsClassifier Accuracy : 0.8664323374340949\n",
    "   3. LogisticRegreesion Accuracy : 0.7978910369068541\n",
    "   \n",
    "- Hasil prediksi TP, TN, FP, FN dari ketiga metode adalah sebagai berikut.\n",
    "   1. TP :\n",
    "      - DecisoinTreeClassifier : 50\n",
    "      - KNeighborsClassifier : 41\n",
    "      - LogisticRegression : 42\n",
    "   2. TN :\n",
    "      - DecisoinTreeClassifier : 54\n",
    "      - KNeighborsClassifier : 67\n",
    "      - LogisticRegression : 73\n",
    "   3. FP :\n",
    "      - DecisoinTreeClassifier : 11\n",
    "      - KNeighborsClassifier : 20\n",
    "      - LogisticRegression : 19\n",
    "   4. FN :\n",
    "      - DecisoinTreeClassifier : 28\n",
    "      - KNeighborsClassifier : 15\n",
    "      - LogisticRegression : 9"
   ]
  },
  {
   "cell_type": "markdown",
   "id": "787794b3-3889-4dcd-9b2a-5c06a1cf4e4f",
   "metadata": {},
   "source": [
    "Keterangan : \n",
    "1. TP = True Positif -> benar menebak survivor yang selamat\n",
    "2. TN = True Negatif -> benar menebak survivor yang tidak selamat\n",
    "3. FP = False Positif -> menebak survivor selamat namun kenyataan tidak selamat\n",
    "4. FN = False Negatif -> menebak survivor tidak selamat namun kenyataaan selamat"
   ]
  },
  {
   "cell_type": "markdown",
   "id": "3afe56be-1f8c-4310-bd76-15bb67ed4f4e",
   "metadata": {
    "jp-MarkdownHeadingCollapsed": true,
    "tags": []
   },
   "source": [
    "### 6. Saran"
   ]
  },
  {
   "cell_type": "markdown",
   "id": "4ae7284e-e69f-4f22-90fc-893369ab73eb",
   "metadata": {},
   "source": [
    "Untuk lebih menyempurnakan hasil pada penelitian selanjutnya peneliti menyarankan dapat dengan melakukan pengisisan data null dengan hal nilai lainnya. dan juga untuk menyempurnakan hasil pada penelitian selanjutnya peneliti menyarankan dapat menggunakan metode prediction lainnya agar dapat melihat tingkat accuracy yang lebih baik dari ketiga metode yang dignakan pada penelitian saat ini. "
   ]
  },
  {
   "cell_type": "code",
   "execution_count": null,
   "id": "e41aeb17-b1a4-4f63-a827-390a6858c5b9",
   "metadata": {},
   "outputs": [],
   "source": []
  }
 ],
 "metadata": {
  "kernelspec": {
   "display_name": "Python 3 (ipykernel)",
   "language": "python",
   "name": "python3"
  },
  "language_info": {
   "codemirror_mode": {
    "name": "ipython",
    "version": 3
   },
   "file_extension": ".py",
   "mimetype": "text/x-python",
   "name": "python",
   "nbconvert_exporter": "python",
   "pygments_lexer": "ipython3",
   "version": "3.9.7"
  }
 },
 "nbformat": 4,
 "nbformat_minor": 5
}
